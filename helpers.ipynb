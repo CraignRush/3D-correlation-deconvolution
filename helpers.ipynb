{
 "cells": [
  {
   "cell_type": "code",
   "execution_count": null,
   "metadata": {},
   "outputs": [],
   "source": [
    "'''\n",
    "## A test for chunkwise computation for little GPUs\n",
    "\n",
    "import dask\n",
    "import dask.array as da\n",
    "import operator\n",
    "from flowdec.nb import utils as nbutils \n",
    "\n",
    "def cropND(img, bounding):\n",
    "    start = tuple(map(lambda a, da: a//2-da//2, img.shape, bounding))\n",
    "    end = tuple(map(operator.add, start, bounding))\n",
    "    slices = tuple(map(slice, start, end))\n",
    "    return img[slices]\n",
    "\n",
    "chunk_size = (38,50,64)\n",
    "# chunked dask array\n",
    "arr = da.from_array(acq.data, chunks=chunk_size)\n",
    "# kernel cropped to chunk size\n",
    "cropped_kernel = cropND(psf, chunk_size)\n",
    "algo = tfd_restoration.RichardsonLucyDeconvolver(acq.data.ndim, pad_mode=\"2357\", pad_min=(16,16,16))\n",
    "\n",
    "def deconv(chunk):\n",
    "    # note that algo and cropped_kernel are from global scope ... ugly\n",
    "    print(\"chunk shape\", chunk.shape)\n",
    "    tmp = algo.initialize().run(tfd_data.Acquisition(data=chunk, kernel=cropped_kernel), 5)\n",
    "    return tmp.data \n",
    "\n",
    "res.data = arr.map_overlap(deconv,depth=(16,16,16), boundary='reflect', dtype='float32').compute(num_workers=1)\n",
    "#nbutils.plot_rotations(res)\n",
    "'''"
   ]
  },
  {
   "cell_type": "code",
   "execution_count": null,
   "metadata": {},
   "outputs": [],
   "source": [
    "# Visualize the iterations\n",
    "if imgs:\n",
    "    n = 32\n",
    "    iters = np.linspace(0, niter-1, num=n).astype(int)\n",
    "    fig, axs = plt.subplots(4, 8)\n",
    "    axs = axs.ravel()\n",
    "    fig.set_size_inches(24, 12)\n",
    "    for i, j in enumerate(iters):\n",
    "        axs[i].axis('off')\n",
    "        axs[i].set_title('iteration {}'.format(j))\n",
    "        axs[i].imshow(res.data[j].max(axis=0))"
   ]
  },
  {
   "cell_type": "code",
   "execution_count": null,
   "metadata": {},
   "outputs": [],
   "source": [
    "if imgs:\n",
    "    fig, (ax1,ax2) = plt.subplots(1,2,figsize=(20, 10))\n",
    "    plt.gray()\n",
    "\n",
    "    ax1.axis('off')\n",
    "    ax1.set_title('Decon start (Iteration {})'.format(0))\n",
    "    ax1.imshow(imgs[0].max(axis=0))\n",
    "\n",
    "    ax2.axis('off')\n",
    "    ax2.set_title('After decon (Iteration {})'.format(j+1))\n",
    "    ax2.imshow(imgs[-1].max(axis=0))"
   ]
  }
 ],
 "metadata": {
  "language_info": {
   "name": "python"
  }
 },
 "nbformat": 4,
 "nbformat_minor": 2
}
