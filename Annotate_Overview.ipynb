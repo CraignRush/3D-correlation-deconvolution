{
 "cells": [
  {
   "cell_type": "code",
   "execution_count": null,
   "metadata": {},
   "outputs": [],
   "source": [
    "from FOV import FOV\n",
    "from matplotlib.pyplot import plt\n",
    "from matplotlib.patches import Rectangle"
   ]
  },
  {
   "cell_type": "code",
   "execution_count": null,
   "metadata": {},
   "outputs": [],
   "source": [
    "path_to_overview = ''\n",
    "path_to_stacks   = ''"
   ]
  },
  {
   "cell_type": "code",
   "execution_count": null,
   "metadata": {},
   "outputs": [],
   "source": [
    "FOVs = FOV(path_to_stacks)\n",
    "overview = FOV(path_to_overview)\n",
    "\n",
    "# @FIXME import all FOV params \n",
    "# @FIXME add parameter to class to import without image data\n",
    "FOV_list = []"
   ]
  },
  {
   "cell_type": "code",
   "execution_count": null,
   "metadata": {},
   "outputs": [],
   "source": [
    "fig = plt.figure(figsize=(30,15))\n",
    "ax = fig.axes()\n",
    "\n",
    "ax.imshow(overview.get_channel_stack())\n",
    "FOV_rect = []\n",
    "for fov in FOV_list:\n",
    "    FOV_rect.append(Rectangle((fov.StagePosX,fov.StagePosY),20,20))\n",
    "    ax.add_patch(FOV_rect)\n",
    "\n",
    "# @HACK save the final image"
   ]
  }
 ],
 "metadata": {
  "language_info": {
   "name": "python"
  }
 },
 "nbformat": 4,
 "nbformat_minor": 2
}
