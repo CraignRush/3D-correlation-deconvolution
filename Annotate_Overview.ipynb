{
 "cells": [
  {
   "cell_type": "code",
   "execution_count": null,
   "metadata": {},
   "outputs": [],
   "source": [
    "from FOV import FOV\n",
    "from matplotlib.pyplot import plt\n",
    "from matplotlib.patches import Rectangle\n",
    "import logging"
   ]
  },
  {
   "cell_type": "code",
   "execution_count": null,
   "metadata": {},
   "outputs": [],
   "source": [
    "path_to_overview = ''\n",
    "path_to_stacks   = ''"
   ]
  },
  {
   "cell_type": "code",
   "execution_count": null,
   "metadata": {},
   "outputs": [],
   "source": [
    "FOVs = FOV(path_to_stacks,0)\n",
    "logging.info(FOVs.FOV_name)\n",
    "overview = FOV(path_to_overview)\n",
    "logging.info(overview.FOV_name)\n",
    "\n",
    "# @FIXME import all FOV params \n",
    "# @FIXME add parameter to class to import without image data\n",
    "FOV_list = []\n",
    "\n",
    "\n",
    "for fov_num in range(FOVs.FOV_count):    \n",
    "    FOV_list.append(FOV(path_to_stacks,fov_num))\n",
    "    logging.info(FOV_list[-1].FOV_name)\n",
    "\n"
   ]
  },
  {
   "cell_type": "code",
   "execution_count": null,
   "metadata": {},
   "outputs": [],
   "source": [
    "fig = plt.figure(figsize=(30,15))\n",
    "ax = fig.axes()\n",
    "\n",
    "ax.imshow(overview.get_channel_stack())\n",
    "FOV_rect = []\n",
    "for fov in FOV_list:\n",
    "    FOV_rect.append(Rectangle((fov.StagePosX,fov.StagePosY),20,20))\n",
    "    ax.add_patch(FOV_rect)\n",
    "\n",
    "# @HACK save the final image"
   ]
  }
 ],
 "metadata": {
  "language_info": {
   "name": "python"
  }
 },
 "nbformat": 4,
 "nbformat_minor": 2
}
